{
  "nbformat": 4,
  "nbformat_minor": 0,
  "metadata": {
    "colab": {
      "provenance": [],
      "authorship_tag": "ABX9TyOzbf+6wT9a9ovEJpym9IJj",
      "include_colab_link": true
    },
    "kernelspec": {
      "name": "python3",
      "display_name": "Python 3"
    },
    "language_info": {
      "name": "python"
    }
  },
  "cells": [
    {
      "cell_type": "markdown",
      "metadata": {
        "id": "view-in-github",
        "colab_type": "text"
      },
      "source": [
        "<a href=\"https://colab.research.google.com/github/mariane-tenorio/BasesComputacionais/blob/master/Tarefa_3_Mariane_Alves.ipynb\" target=\"_parent\"><img src=\"https://colab.research.google.com/assets/colab-badge.svg\" alt=\"Open In Colab\"/></a>"
      ]
    },
    {
      "cell_type": "markdown",
      "source": [
        "# TAREFA 3 \n",
        "\n",
        "Mariane Alves Tenorio"
      ],
      "metadata": {
        "id": "MCqJJ6h3ZQAB"
      }
    },
    {
      "cell_type": "code",
      "execution_count": null,
      "metadata": {
        "colab": {
          "base_uri": "https://localhost:8080/"
        },
        "id": "e7yiUwMGZDgz",
        "outputId": "2e7f19f7-cdfd-4056-aa3d-f4cefb6ee086"
      },
      "outputs": [
        {
          "output_type": "stream",
          "name": "stdout",
          "text": [
            "Segundos: 5400.0\n"
          ]
        }
      ],
      "source": [
        "h = 1.5\n",
        "s = h*60*60\n",
        "print (f'Segundos:{s: .1f}')\n"
      ]
    },
    {
      "cell_type": "code",
      "source": [
        "h = 12\n",
        "s = h*60*60\n",
        "print (f'Segundos:{s: .1f}')"
      ],
      "metadata": {
        "colab": {
          "base_uri": "https://localhost:8080/"
        },
        "id": "mKxplRl6aCfP",
        "outputId": "a3bc2d26-fbc4-47c9-f579-6545128d84b6"
      },
      "execution_count": null,
      "outputs": [
        {
          "output_type": "stream",
          "name": "stdout",
          "text": [
            "Segundos: 43200.0\n"
          ]
        }
      ]
    },
    {
      "cell_type": "code",
      "source": [
        "h = 24\n",
        "s = h*60*60\n",
        "print (f'Segundos:{s: .1f}')"
      ],
      "metadata": {
        "colab": {
          "base_uri": "https://localhost:8080/"
        },
        "id": "6d0I6f8dboEm",
        "outputId": "b686c401-b04d-49ba-b20f-199364c420c0"
      },
      "execution_count": null,
      "outputs": [
        {
          "output_type": "stream",
          "name": "stdout",
          "text": [
            "Segundos: 86400.0\n"
          ]
        }
      ]
    }
  ]
}